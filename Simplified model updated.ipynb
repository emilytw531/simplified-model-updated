{
 "cells": [
  {
   "cell_type": "code",
   "execution_count": 1,
   "metadata": {},
   "outputs": [],
   "source": [
    "# AUTHOR: LI WAN | UNIVERSITY OF CAMBRIDGE\n",
    "\n",
    "import os\n",
    "import scipy.io as sio\n",
    "import pandas as pd\n",
    "import numpy as np\n",
    "import time"
   ]
  },
  {
   "cell_type": "markdown",
   "metadata": {},
   "source": [
    "## Input"
   ]
  },
  {
   "cell_type": "code",
   "execution_count": 2,
   "metadata": {},
   "outputs": [],
   "source": [
    "# parameters\n",
    "MaxITN = 5000         # max iteration times\n",
    "Tol = 1e-6            # tolerance       ## 10^(-03) = 1.0000e-03 = 0.001, is this right? \n",
    "Status_Mode = 0       # 1: Calibdation mode; 0: Forecast mode\n",
    "Status_EmpPred = 1    # 1: predict emp-residential location pair; 0: predict residential location only \n",
    "Status_HrentPred = 1  # 1: predict house rents; 0: Exogenous house rents\n",
    "LLCoefIJ = np.array([[0.0,0.0]]) # log-linear transformation coef\n",
    "D = 250               # number of working days\n",
    "Lambda = np.array([[1.0,1.0]])"
   ]
  },
  {
   "cell_type": "code",
   "execution_count": 3,
   "metadata": {},
   "outputs": [
    {
     "name": "stdout",
     "output_type": "stream",
     "text": [
      "------------------- ZAT file exists - Load ZAT file -----------------\n"
     ]
    }
   ],
   "source": [
    "# vairables\n",
    "LT = len(Lambda[0]) # labour type       ##size(Lambda,2): number of second dimension (variables/columns) - here, the result is 2. \n",
    "\n",
    "EmpSeCTot = np.array([[300,1]]) # total employment by socio-economic classification; input if Status_EmpPred == 1\n",
    "                                # left-side (100) is high-income group; right-hand side (1) is low income group\n",
    "\n",
    "EmpSeC = np.array([[100,1],   \n",
    "                   [100,1],\n",
    "                   [100,1]])    # employment by socio-economic classification; input if Status_EmpPred == 0\n",
    "                                # from top to bottom - zone 1, 2, 3 respectively. Left (100) is high-income group; right-hand side (1) is low income group\n",
    "                           \n",
    "Time1 = np.array([[5,15,30],    # 5 means: time from living in zone 1 and work in zone 1; 15 means: living in zone 1 but work in zone 2\n",
    "                  [15,5,15],    # the first 15 means: living in zone 2 but work in zone 1\n",
    "                  [30,15,5]]) \n",
    "                                # travel time matrix (Unit: minute)\n",
    "\n",
    "Time = np.repeat(Time1[None,...],LT,axis=0)   # Time = repmat(Time1, [1,1,LT])    # Time.shape (2,3,3) - this is right. Here, means 2 layers, 3 rows and 3 columns. = size (3,3,2) in Matlab  \n",
    "Dist = Time # travel distance matrix (Unit: km)\n",
    "\n",
    "\n",
    "HS = np.array([[1000],\n",
    "               [1000],\n",
    "               [1000]])       # housing floorspace - zone 1, 2, 3 respectively         # OR: np.array([1000,1000,1000])\n",
    "\n",
    "BFS = np.array([[1000],\n",
    "                [1000],\n",
    "                [1000]])      # business floorspace\n",
    "\n",
    "Hrent0 = np.array([[200],\n",
    "                   [200],\n",
    "                   [200]])    # unit house rent\n",
    "\n",
    "Hrent = Hrent0\n",
    "\n",
    "\n",
    "ZNum = len(HS)      # zone number    # size(HS,1): number of the first dimension (rows) - here, the result is 3\n",
    "\n",
    "# check and read ZAT.mat file\n",
    "name_ZAT = 'ZAT'\n",
    "name_ZAttrI = 'ZAttrI'\n",
    "name_ZAttrIJ = 'ZAttrIJ'\n",
    "\n",
    "from functions import read_ZAT\n",
    "ZAttrI, ZAttrIJ = read_ZAT(LT,ZNum,name_ZAT,name_ZAttrI,name_ZAttrIJ)"
   ]
  },
  {
   "cell_type": "code",
   "execution_count": 4,
   "metadata": {},
   "outputs": [],
   "source": [
    "# Data input for updating Hrent\n",
    "Wage = np.array([[10000,10000],   \n",
    "                 [10000,10000],\n",
    "                 [10000,10000]])\n",
    "\n",
    "HSExpShare = np.array([[0.2,0.2],   \n",
    "                       [0.2,0.2],\n",
    "                       [0.2,0.2]])\n",
    "\n",
    "\n",
    "if Status_EmpPred == 1:\n",
    "    EmpInput = EmpSeCTot\n",
    "else:\n",
    "    EmpInput = EmpSeC"
   ]
  },
  {
   "cell_type": "markdown",
   "metadata": {},
   "source": [
    "## Iteration - Calculate location choice probability"
   ]
  },
  {
   "cell_type": "code",
   "execution_count": 5,
   "metadata": {},
   "outputs": [
    {
     "name": "stdout",
     "output_type": "stream",
     "text": [
      "--------------------------- Iteration starts ------------------------\n",
      "--------------------- Hrent Converged at ITN = 1832 ------------------\n",
      "Elapsed time is: 0.7856 seconds\n"
     ]
    }
   ],
   "source": [
    "# 0.8737 seconds\n",
    "\n",
    "start_time = time.time()\n",
    "\n",
    "from functions import ProbIJ_Mix, Update_Hrent, Calibrate_ZAttr  #import three key functions\n",
    "\n",
    "if Status_HrentPred == 1:\n",
    "    print('--------------------------- Iteration starts ------------------------')\n",
    "    \n",
    "    for k in list(range(1,MaxITN+1)):\n",
    "        \n",
    "        if k == MaxITN:\n",
    "            print('-------------------------- MaxITN reached --------------------------')\n",
    "            break\n",
    "        \n",
    "        Output = ProbIJ_Mix(Status_EmpPred,D,LLCoefIJ,Lambda,EmpInput,Time,Dist,HS,BFS,Hrent0,ZAttrIJ,ZAttrI, LT,ZNum) #add LT,ZNum\n",
    "        Hrent, Error = Update_Hrent(Output, LT,ZNum,Wage,HSExpShare,Hrent0,HS)\n",
    "        \n",
    "        if Error < Tol:\n",
    "            print('--------------------- Hrent Converged at ITN = {} ------------------'.format(k))\n",
    "            break\n",
    "        else:\n",
    "            Hrent0 = 1.0*Hrent + 0.0*Hrent0\n",
    "            continue\n",
    "    \n",
    "else:\n",
    "    print('--------------- Calculate location choice probability ---------------')\n",
    "    Output = ProbIJ_Mix(Status_EmpPred,D,LLCoefIJ,Lambda,EmpInput,Time,Dist,HS,BFS,Hrent0,ZAttrIJ,ZAttrI, LT,ZNum)\n",
    "    \n",
    "\n",
    "if Status_Mode == 1:\n",
    "    print('---------------------- ZATTR Calibration start ----------------------')\n",
    "    ZAttrIJ,ZAttrI = Calibrate_ZAttr(D,LLCoefIJ,Lambda,Time,HS,BFS,Hrent, LT,ZNum)\n",
    "    sio.savemat('ZAT(Python).mat', {'ZAttrIJ':ZAttrIJ, 'ZAttrI':ZAttrI})\n",
    "\n",
    "print(\"Elapsed time is: %.4f seconds\" % (time.time() - start_time)) "
   ]
  },
  {
   "cell_type": "markdown",
   "metadata": {},
   "source": [
    "## Write output files"
   ]
  },
  {
   "cell_type": "code",
   "execution_count": 6,
   "metadata": {},
   "outputs": [
    {
     "data": {
      "text/plain": [
       "dict_keys(['Metadata', 'MetadataT', 'T_IJ', 'T_IJ_all', 'T_EREW', 'T_Hrents', 'T_JobOppLatCat', 'T_Tran'])"
      ]
     },
     "execution_count": 6,
     "metadata": {},
     "output_type": "execute_result"
    }
   ],
   "source": [
    "from functions import print_outputs\n",
    "Output_summary = print_outputs (Status_Mode,Status_EmpPred,Status_HrentPred,Output,Hrent,Tol) # run this function\n",
    "Output_summary.keys()  # display all the table names in the 'output_summary' file"
   ]
  },
  {
   "cell_type": "code",
   "execution_count": 7,
   "metadata": {},
   "outputs": [
    {
     "data": {
      "text/html": [
       "<div>\n",
       "<style scoped>\n",
       "    .dataframe tbody tr th:only-of-type {\n",
       "        vertical-align: middle;\n",
       "    }\n",
       "\n",
       "    .dataframe tbody tr th {\n",
       "        vertical-align: top;\n",
       "    }\n",
       "\n",
       "    .dataframe thead tr th {\n",
       "        text-align: left;\n",
       "    }\n",
       "</style>\n",
       "<table border=\"1\" class=\"dataframe\">\n",
       "  <thead>\n",
       "    <tr>\n",
       "      <th></th>\n",
       "      <th colspan=\"2\" halign=\"left\">ER</th>\n",
       "      <th colspan=\"2\" halign=\"left\">EW</th>\n",
       "    </tr>\n",
       "    <tr>\n",
       "      <th></th>\n",
       "      <th>Column_A</th>\n",
       "      <th>Column_B</th>\n",
       "      <th>Column_A</th>\n",
       "      <th>Column_B</th>\n",
       "    </tr>\n",
       "  </thead>\n",
       "  <tbody>\n",
       "    <tr>\n",
       "      <th>0</th>\n",
       "      <td>103.672466</td>\n",
       "      <td>0.345575</td>\n",
       "      <td>89.494273</td>\n",
       "      <td>0.298314</td>\n",
       "    </tr>\n",
       "    <tr>\n",
       "      <th>1</th>\n",
       "      <td>92.655067</td>\n",
       "      <td>0.308850</td>\n",
       "      <td>121.011454</td>\n",
       "      <td>0.403372</td>\n",
       "    </tr>\n",
       "    <tr>\n",
       "      <th>2</th>\n",
       "      <td>103.672466</td>\n",
       "      <td>0.345575</td>\n",
       "      <td>89.494273</td>\n",
       "      <td>0.298314</td>\n",
       "    </tr>\n",
       "  </tbody>\n",
       "</table>\n",
       "</div>"
      ],
      "text/plain": [
       "           ER                    EW          \n",
       "     Column_A  Column_B    Column_A  Column_B\n",
       "0  103.672466  0.345575   89.494273  0.298314\n",
       "1   92.655067  0.308850  121.011454  0.403372\n",
       "2  103.672466  0.345575   89.494273  0.298314"
      ]
     },
     "execution_count": 7,
     "metadata": {},
     "output_type": "execute_result"
    }
   ],
   "source": [
    "Output_summary['T_EREW'] # select one table to display. (just change this table name to what we're interested in)"
   ]
  },
  {
   "cell_type": "code",
   "execution_count": 8,
   "metadata": {},
   "outputs": [
    {
     "data": {
      "text/html": [
       "<div>\n",
       "<style scoped>\n",
       "    .dataframe tbody tr th:only-of-type {\n",
       "        vertical-align: middle;\n",
       "    }\n",
       "\n",
       "    .dataframe tbody tr th {\n",
       "        vertical-align: top;\n",
       "    }\n",
       "\n",
       "    .dataframe thead th {\n",
       "        text-align: right;\n",
       "    }\n",
       "</style>\n",
       "<table border=\"1\" class=\"dataframe\">\n",
       "  <thead>\n",
       "    <tr style=\"text-align: right;\">\n",
       "      <th></th>\n",
       "      <th>Hrent</th>\n",
       "    </tr>\n",
       "  </thead>\n",
       "  <tbody>\n",
       "    <tr>\n",
       "      <th>0</th>\n",
       "      <td>208.035876</td>\n",
       "    </tr>\n",
       "    <tr>\n",
       "      <th>1</th>\n",
       "      <td>185.927687</td>\n",
       "    </tr>\n",
       "    <tr>\n",
       "      <th>2</th>\n",
       "      <td>208.035876</td>\n",
       "    </tr>\n",
       "  </tbody>\n",
       "</table>\n",
       "</div>"
      ],
      "text/plain": [
       "        Hrent\n",
       "0  208.035876\n",
       "1  185.927687\n",
       "2  208.035876"
      ]
     },
     "execution_count": 8,
     "metadata": {},
     "output_type": "execute_result"
    }
   ],
   "source": [
    "Output_summary['T_Hrents'] "
   ]
  },
  {
   "cell_type": "code",
   "execution_count": 9,
   "metadata": {},
   "outputs": [
    {
     "data": {
      "text/plain": [
       "[['PROJECT NAME: ProbIJ_Model_Test'],\n",
       " ['DATE: ', Timestamp('2021-08-19 18:52:32.112003')],\n",
       " ['AUTHOR: LI WAN | UNIVERSITY OF CAMBRIDGE'],\n",
       " ['PRECISION: ', 1e-06],\n",
       " ['MODEL MODE: FORECAST'],\n",
       " ['EMPLOTMENT PREDICTION: ENABLED'],\n",
       " ['HOUSE RENTS PREDICTION: ENABLED']]"
      ]
     },
     "execution_count": 9,
     "metadata": {},
     "output_type": "execute_result"
    }
   ],
   "source": [
    "Output_summary['Metadata']  # there is a bit of date format issue - I will check it later. "
   ]
  },
  {
   "cell_type": "code",
   "execution_count": 10,
   "metadata": {},
   "outputs": [],
   "source": [
    "# # check carlibration \n",
    "# sio.loadmat('ZAT(Python).mat')['ZAttrI']\n",
    "\n",
    "# # compare results generated from Matlab\n",
    "# matZAT = sio.loadmat('Simplified_Matlab_Model_v3_Calibration/ZAT.mat')['ZAT']\n",
    "# ZAT = matZAT[0,0]    # ZAT.dtype\n",
    "# ZAttrI = np.moveaxis(ZAT['ZAttrI'], -1, 0)\n",
    "# ZAttrIJ = np.moveaxis(ZAT['ZAttrIJ'], -1, 0)\n",
    "\n",
    "# ZAttrI"
   ]
  },
  {
   "cell_type": "code",
   "execution_count": null,
   "metadata": {},
   "outputs": [],
   "source": []
  }
 ],
 "metadata": {
  "kernelspec": {
   "display_name": "Python 3",
   "language": "python",
   "name": "python3"
  },
  "language_info": {
   "codemirror_mode": {
    "name": "ipython",
    "version": 3
   },
   "file_extension": ".py",
   "mimetype": "text/x-python",
   "name": "python",
   "nbconvert_exporter": "python",
   "pygments_lexer": "ipython3",
   "version": "3.7.6"
  },
  "toc": {
   "base_numbering": 1,
   "nav_menu": {},
   "number_sections": true,
   "sideBar": true,
   "skip_h1_title": false,
   "title_cell": "Table of Contents",
   "title_sidebar": "Contents",
   "toc_cell": false,
   "toc_position": {},
   "toc_section_display": true,
   "toc_window_display": false
  }
 },
 "nbformat": 4,
 "nbformat_minor": 4
}
