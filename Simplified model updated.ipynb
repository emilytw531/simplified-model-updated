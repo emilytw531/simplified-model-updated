{
 "cells": [
  {
   "cell_type": "code",
   "execution_count": 1,
   "metadata": {},
   "outputs": [],
   "source": [
    "# A CITY REGION IN MAKING - DEMO VERSION\n",
    "# AUTHOR: DR LI WAN | UNIVERSITY OF CAMBRIDGE\n",
    "# ACKNOWLEDGEMENTS: MS TIANYUAN WANG FOR CODING ASSISTANCE\n",
    "\n",
    "import os\n",
    "import scipy.io as sio\n",
    "import pandas as pd\n",
    "import numpy as np\n",
    "import time"
   ]
  },
  {
   "cell_type": "markdown",
   "metadata": {},
   "source": [
    "## DATA INPUT"
   ]
  },
  {
   "cell_type": "code",
   "execution_count": 2,
   "metadata": {},
   "outputs": [],
   "source": [
    "## Model Parameters\n",
    "MaxITN = 5000         # max iteration times\n",
    "Tol = 1e-6            # tolerance for model convergence\n",
    "Status_Mode = 0       # 1: Calibdation mode; 0: Forecast mode\n",
    "Status_EmpPred = 1    # 1: Predict emp-residential location pair; 0: Predict residential location only \n",
    "Status_HrentPred = 1  # 1: Endogenous house rents; 0: Exogenous house rents\n",
    "LLCoefIJ = np.array([[0.0,0.0]]) # log-linear transformation coef\n",
    "D = 250               # number of working days\n",
    "Lambda = np.array([[1.0,1.0]])  # dispersion parameter for location choice? (can't see those words after location)\n",
    "LT = len(Lambda[0])   # number of labour type"
   ]
  },
  {
   "cell_type": "code",
   "execution_count": 3,
   "metadata": {},
   "outputs": [],
   "source": [
    "## Model Vairables\n",
    "\n",
    "# total employment by socio-economic classification; input if Status_EmpPred == 1\n",
    "# left-hand side is high-income group; right-hand side is low-income group\n",
    "EmpSeCTot = np.array([[300,1]]) \n",
    "\n",
    "# employment by socio-economic classification; input if Status_EmpPred == 0\n",
    "# left-hand side is high-income group; right-hand side is low-income group\n",
    "EmpSeC = np.array([[100,1],   \n",
    "                   [100,1],\n",
    "                   [100,1]])\n",
    "\n",
    "# define employment input\n",
    "if Status_EmpPred == 1:\n",
    "    EmpInput = EmpSeCTot\n",
    "else:\n",
    "    EmpInput = EmpSeC\n",
    "\n",
    "# travel time from residence place (row) to work place (column)(Unit: minute)\n",
    "# For example: 5 minutes travelling from zone 1 as residence to zone 1 to work\n",
    "Time1 = np.array([[5,15,30],    \n",
    "                  [15,5,15],\n",
    "                  [30,15,5]]) \n",
    "\n",
    "# assuming same travel time for all SeCs\n",
    "Time = np.repeat(Time1[None,...],LT,axis=0)\n",
    "\n",
    "Dist = Time # travel distance matrix (Unit: km)\n",
    "\n",
    "# housing floorspace (Unit: m2) - from top to bottom, zone 1, 2, 3 respectively  \n",
    "HS = np.array([[1000],\n",
    "               [1000],\n",
    "               [1000]])\n",
    "\n",
    "# business floorspace (Unit: m2)\n",
    "BFS = np.array([[1000],\n",
    "                [1000],\n",
    "                [1000]])      # business floorspace\n",
    "\n",
    "# house rent per m2\n",
    "Hrent0 = np.array([[200],\n",
    "                   [200],\n",
    "                   [200]])    # unit house rent\n",
    "\n",
    "Hrent = Hrent0\n",
    "\n",
    "# annual labour wage at worlplace\n",
    "# left-hand side is high-income group; right-hand side is low-income group\n",
    "Wage = np.array([[10000,10000],   \n",
    "                 [10000,10000],\n",
    "                 [10000,10000]])\n",
    "\n",
    "# Share of total income spent on housing\n",
    "# left-hand side is high-income group; right-hand side is low-income group\n",
    "HSExpShare = np.array([[0.2,0.2],   \n",
    "                       [0.2,0.2],\n",
    "                       [0.2,0.2]])\n",
    "\n",
    "# number of zones - read from housing input\n",
    "ZNum = len(HS)"
   ]
  },
  {
   "cell_type": "code",
   "execution_count": 4,
   "metadata": {},
   "outputs": [
    {
     "name": "stdout",
     "output_type": "stream",
     "text": [
      "------------------- ZAT file exists - Load ZAT file -----------------\n"
     ]
    }
   ],
   "source": [
    "# read zonal residual attractiveness term from file (saved on server)\n",
    "name_ZAT = 'ZAT'\n",
    "name_ZAttrI = 'ZAttrI'\n",
    "name_ZAttrIJ = 'ZAttrIJ'\n",
    "\n",
    "from functions import read_ZAT\n",
    "ZAttrI, ZAttrIJ = read_ZAT(LT,ZNum,name_ZAT,name_ZAttrI,name_ZAttrIJ) \n",
    "# (cuz this function needs ZNum variable as well, I put it after generating ZNum variable? Otherwise cannot run actually..)"
   ]
  },
  {
   "cell_type": "markdown",
   "metadata": {},
   "source": [
    "## MODEL ITERATIONS"
   ]
  },
  {
   "cell_type": "code",
   "execution_count": 5,
   "metadata": {},
   "outputs": [
    {
     "name": "stdout",
     "output_type": "stream",
     "text": [
      "--------------------------- Iteration starts ------------------------\n",
      "--------------------- Hrent Converged at ITN = 1832 ------------------\n",
      "Elapsed time is: 0.8800 seconds\n"
     ]
    }
   ],
   "source": [
    "from functions import ProbIJ_Mix, Update_Hrent, Calibrate_ZAttr\n",
    "\n",
    "start_time = time.time()\n",
    "\n",
    "if Status_HrentPred == 1:\n",
    "    print('--------------------------- Iteration starts ------------------------')\n",
    "    \n",
    "    for k in list(range(1,MaxITN+1)):\n",
    "        \n",
    "        if k == MaxITN:\n",
    "            print('-------------------------- MaxITN reached --------------------------')\n",
    "            break\n",
    "        \n",
    "        Output = ProbIJ_Mix(Status_EmpPred,D,LLCoefIJ,Lambda,EmpInput,Time,Dist,HS,BFS,Hrent0,ZAttrIJ,ZAttrI, LT,ZNum) #add LT,ZNum\n",
    "        Hrent, Error = Update_Hrent(Output, LT,ZNum,Wage,HSExpShare,Hrent0,HS)\n",
    "        \n",
    "        if Error < Tol:\n",
    "            print('--------------------- Hrent Converged at ITN = {} ------------------'.format(k))\n",
    "            break\n",
    "        else:\n",
    "            Hrent0 = 1.0*Hrent + 0.0*Hrent0\n",
    "            continue\n",
    "    \n",
    "else:\n",
    "    print('--------------- Calculate location choice probability ---------------')\n",
    "    Output = ProbIJ_Mix(Status_EmpPred,D,LLCoefIJ,Lambda,EmpInput,Time,Dist,HS,BFS,Hrent0,ZAttrIJ,ZAttrI, LT,ZNum)\n",
    "    \n",
    "\n",
    "if Status_Mode == 1:\n",
    "    print('---------------------- ZATTR Calibration start ----------------------')\n",
    "    ZAttrIJ,ZAttrI = Calibrate_ZAttr(D,LLCoefIJ,Lambda,Time,HS,BFS,Hrent, LT,ZNum)\n",
    "    sio.savemat('ZAT(Python).mat', {'ZAttrIJ':ZAttrIJ, 'ZAttrI':ZAttrI})\n",
    "\n",
    "print(\"Elapsed time is: %.4f seconds\" % (time.time() - start_time)) "
   ]
  },
  {
   "cell_type": "markdown",
   "metadata": {},
   "source": [
    "## # MODEL OUTPUT"
   ]
  },
  {
   "cell_type": "code",
   "execution_count": 6,
   "metadata": {},
   "outputs": [
    {
     "data": {
      "text/plain": [
       "dict_keys(['Metadata', 'MetadataT', 'T_IJ', 'T_IJ_all', 'T_EREW', 'T_Hrents', 'T_JobOppLatCat', 'T_Tran'])"
      ]
     },
     "execution_count": 6,
     "metadata": {},
     "output_type": "execute_result"
    }
   ],
   "source": [
    "from functions import print_outputs\n",
    "Output_summary = print_outputs (Status_Mode,Status_EmpPred,Status_HrentPred,Output,Hrent,Tol) # run this function\n",
    "Output_summary.keys()  # display all the table names in the 'output_summary' file"
   ]
  },
  {
   "cell_type": "code",
   "execution_count": 7,
   "metadata": {},
   "outputs": [
    {
     "data": {
      "text/plain": [
       "[['PROJECT NAME: ProbIJ_Model_Test'],\n",
       " ['DATE: ', Timestamp('2021-08-19 19:38:35.609619')],\n",
       " ['AUTHOR: LI WAN | UNIVERSITY OF CAMBRIDGE'],\n",
       " ['PRECISION: ', 1e-06],\n",
       " ['MODEL MODE: FORECAST'],\n",
       " ['EMPLOTMENT PREDICTION: ENABLED'],\n",
       " ['HOUSE RENTS PREDICTION: ENABLED']]"
      ]
     },
     "execution_count": 7,
     "metadata": {},
     "output_type": "execute_result"
    }
   ],
   "source": [
    "Output_summary['Metadata']  # there is a bit of date format issue - I will check it later. "
   ]
  },
  {
   "cell_type": "code",
   "execution_count": 8,
   "metadata": {},
   "outputs": [
    {
     "data": {
      "text/html": [
       "<div>\n",
       "<style scoped>\n",
       "    .dataframe tbody tr th:only-of-type {\n",
       "        vertical-align: middle;\n",
       "    }\n",
       "\n",
       "    .dataframe tbody tr th {\n",
       "        vertical-align: top;\n",
       "    }\n",
       "\n",
       "    .dataframe thead tr th {\n",
       "        text-align: left;\n",
       "    }\n",
       "</style>\n",
       "<table border=\"1\" class=\"dataframe\">\n",
       "  <thead>\n",
       "    <tr>\n",
       "      <th></th>\n",
       "      <th colspan=\"2\" halign=\"left\">ER</th>\n",
       "      <th colspan=\"2\" halign=\"left\">EW</th>\n",
       "    </tr>\n",
       "    <tr>\n",
       "      <th></th>\n",
       "      <th>Column_A</th>\n",
       "      <th>Column_B</th>\n",
       "      <th>Column_A</th>\n",
       "      <th>Column_B</th>\n",
       "    </tr>\n",
       "  </thead>\n",
       "  <tbody>\n",
       "    <tr>\n",
       "      <th>0</th>\n",
       "      <td>103.672466</td>\n",
       "      <td>0.345575</td>\n",
       "      <td>89.494273</td>\n",
       "      <td>0.298314</td>\n",
       "    </tr>\n",
       "    <tr>\n",
       "      <th>1</th>\n",
       "      <td>92.655067</td>\n",
       "      <td>0.308850</td>\n",
       "      <td>121.011454</td>\n",
       "      <td>0.403372</td>\n",
       "    </tr>\n",
       "    <tr>\n",
       "      <th>2</th>\n",
       "      <td>103.672466</td>\n",
       "      <td>0.345575</td>\n",
       "      <td>89.494273</td>\n",
       "      <td>0.298314</td>\n",
       "    </tr>\n",
       "  </tbody>\n",
       "</table>\n",
       "</div>"
      ],
      "text/plain": [
       "           ER                    EW          \n",
       "     Column_A  Column_B    Column_A  Column_B\n",
       "0  103.672466  0.345575   89.494273  0.298314\n",
       "1   92.655067  0.308850  121.011454  0.403372\n",
       "2  103.672466  0.345575   89.494273  0.298314"
      ]
     },
     "execution_count": 8,
     "metadata": {},
     "output_type": "execute_result"
    }
   ],
   "source": [
    "Output_summary['T_EREW'] # select one table to display. (just change this table name to what we're interested in)"
   ]
  },
  {
   "cell_type": "code",
   "execution_count": 9,
   "metadata": {},
   "outputs": [
    {
     "data": {
      "text/html": [
       "<div>\n",
       "<style scoped>\n",
       "    .dataframe tbody tr th:only-of-type {\n",
       "        vertical-align: middle;\n",
       "    }\n",
       "\n",
       "    .dataframe tbody tr th {\n",
       "        vertical-align: top;\n",
       "    }\n",
       "\n",
       "    .dataframe thead th {\n",
       "        text-align: right;\n",
       "    }\n",
       "</style>\n",
       "<table border=\"1\" class=\"dataframe\">\n",
       "  <thead>\n",
       "    <tr style=\"text-align: right;\">\n",
       "      <th></th>\n",
       "      <th>Hrent</th>\n",
       "    </tr>\n",
       "  </thead>\n",
       "  <tbody>\n",
       "    <tr>\n",
       "      <th>0</th>\n",
       "      <td>208.035876</td>\n",
       "    </tr>\n",
       "    <tr>\n",
       "      <th>1</th>\n",
       "      <td>185.927687</td>\n",
       "    </tr>\n",
       "    <tr>\n",
       "      <th>2</th>\n",
       "      <td>208.035876</td>\n",
       "    </tr>\n",
       "  </tbody>\n",
       "</table>\n",
       "</div>"
      ],
      "text/plain": [
       "        Hrent\n",
       "0  208.035876\n",
       "1  185.927687\n",
       "2  208.035876"
      ]
     },
     "execution_count": 9,
     "metadata": {},
     "output_type": "execute_result"
    }
   ],
   "source": [
    "Output_summary['T_Hrents'] "
   ]
  },
  {
   "cell_type": "code",
   "execution_count": 10,
   "metadata": {},
   "outputs": [
    {
     "data": {
      "text/html": [
       "<div>\n",
       "<style scoped>\n",
       "    .dataframe tbody tr th:only-of-type {\n",
       "        vertical-align: middle;\n",
       "    }\n",
       "\n",
       "    .dataframe tbody tr th {\n",
       "        vertical-align: top;\n",
       "    }\n",
       "\n",
       "    .dataframe thead th {\n",
       "        text-align: right;\n",
       "    }\n",
       "</style>\n",
       "<table border=\"1\" class=\"dataframe\">\n",
       "  <thead>\n",
       "    <tr style=\"text-align: right;\">\n",
       "      <th></th>\n",
       "      <th>dim_column</th>\n",
       "      <th>0</th>\n",
       "      <th>1</th>\n",
       "      <th>2</th>\n",
       "    </tr>\n",
       "    <tr>\n",
       "      <th>dim3</th>\n",
       "      <th>dim_row</th>\n",
       "      <th></th>\n",
       "      <th></th>\n",
       "      <th></th>\n",
       "    </tr>\n",
       "  </thead>\n",
       "  <tbody>\n",
       "    <tr>\n",
       "      <th rowspan=\"3\" valign=\"top\">0</th>\n",
       "      <th>0</th>\n",
       "      <td>59.241409</td>\n",
       "      <td>29.620705</td>\n",
       "      <td>14.810352</td>\n",
       "    </tr>\n",
       "    <tr>\n",
       "      <th>1</th>\n",
       "      <td>15.442511</td>\n",
       "      <td>61.770045</td>\n",
       "      <td>15.442511</td>\n",
       "    </tr>\n",
       "    <tr>\n",
       "      <th>2</th>\n",
       "      <td>14.810352</td>\n",
       "      <td>29.620705</td>\n",
       "      <td>59.241409</td>\n",
       "    </tr>\n",
       "    <tr>\n",
       "      <th rowspan=\"3\" valign=\"top\">1</th>\n",
       "      <th>0</th>\n",
       "      <td>0.197471</td>\n",
       "      <td>0.098736</td>\n",
       "      <td>0.049368</td>\n",
       "    </tr>\n",
       "    <tr>\n",
       "      <th>1</th>\n",
       "      <td>0.051475</td>\n",
       "      <td>0.205900</td>\n",
       "      <td>0.051475</td>\n",
       "    </tr>\n",
       "    <tr>\n",
       "      <th>2</th>\n",
       "      <td>0.049368</td>\n",
       "      <td>0.098736</td>\n",
       "      <td>0.197471</td>\n",
       "    </tr>\n",
       "  </tbody>\n",
       "</table>\n",
       "</div>"
      ],
      "text/plain": [
       "dim_column            0          1          2\n",
       "dim3 dim_row                                 \n",
       "0    0        59.241409  29.620705  14.810352\n",
       "     1        15.442511  61.770045  15.442511\n",
       "     2        14.810352  29.620705  59.241409\n",
       "1    0         0.197471   0.098736   0.049368\n",
       "     1         0.051475   0.205900   0.051475\n",
       "     2         0.049368   0.098736   0.197471"
      ]
     },
     "execution_count": 10,
     "metadata": {},
     "output_type": "execute_result"
    }
   ],
   "source": [
    "Output_summary['T_IJ'] "
   ]
  },
  {
   "cell_type": "code",
   "execution_count": 11,
   "metadata": {},
   "outputs": [
    {
     "data": {
      "text/html": [
       "<div>\n",
       "<style scoped>\n",
       "    .dataframe tbody tr th:only-of-type {\n",
       "        vertical-align: middle;\n",
       "    }\n",
       "\n",
       "    .dataframe tbody tr th {\n",
       "        vertical-align: top;\n",
       "    }\n",
       "\n",
       "    .dataframe thead th {\n",
       "        text-align: right;\n",
       "    }\n",
       "</style>\n",
       "<table border=\"1\" class=\"dataframe\">\n",
       "  <thead>\n",
       "    <tr style=\"text-align: right;\">\n",
       "      <th></th>\n",
       "      <th>0</th>\n",
       "      <th>1</th>\n",
       "      <th>2</th>\n",
       "    </tr>\n",
       "  </thead>\n",
       "  <tbody>\n",
       "    <tr>\n",
       "      <th>0</th>\n",
       "      <td>59.438881</td>\n",
       "      <td>29.719440</td>\n",
       "      <td>14.859720</td>\n",
       "    </tr>\n",
       "    <tr>\n",
       "      <th>1</th>\n",
       "      <td>15.493986</td>\n",
       "      <td>61.975945</td>\n",
       "      <td>15.493986</td>\n",
       "    </tr>\n",
       "    <tr>\n",
       "      <th>2</th>\n",
       "      <td>14.859720</td>\n",
       "      <td>29.719440</td>\n",
       "      <td>59.438881</td>\n",
       "    </tr>\n",
       "  </tbody>\n",
       "</table>\n",
       "</div>"
      ],
      "text/plain": [
       "           0          1          2\n",
       "0  59.438881  29.719440  14.859720\n",
       "1  15.493986  61.975945  15.493986\n",
       "2  14.859720  29.719440  59.438881"
      ]
     },
     "execution_count": 11,
     "metadata": {},
     "output_type": "execute_result"
    }
   ],
   "source": [
    "Output_summary['T_IJ_all'] "
   ]
  },
  {
   "cell_type": "code",
   "execution_count": 12,
   "metadata": {},
   "outputs": [],
   "source": [
    "# # check carlibration \n",
    "# sio.loadmat('ZAT(Python).mat')['ZAttrI']\n",
    "\n",
    "# # compare results generated from Matlab\n",
    "# matZAT = sio.loadmat('Simplified_Matlab_Model_v3_Calibration/ZAT.mat')['ZAT']\n",
    "# ZAT = matZAT[0,0]    # ZAT.dtype\n",
    "# ZAttrI = np.moveaxis(ZAT['ZAttrI'], -1, 0)\n",
    "# ZAttrIJ = np.moveaxis(ZAT['ZAttrIJ'], -1, 0)\n",
    "\n",
    "# ZAttrI"
   ]
  },
  {
   "cell_type": "code",
   "execution_count": null,
   "metadata": {},
   "outputs": [],
   "source": []
  }
 ],
 "metadata": {
  "kernelspec": {
   "display_name": "Python 3",
   "language": "python",
   "name": "python3"
  },
  "language_info": {
   "codemirror_mode": {
    "name": "ipython",
    "version": 3
   },
   "file_extension": ".py",
   "mimetype": "text/x-python",
   "name": "python",
   "nbconvert_exporter": "python",
   "pygments_lexer": "ipython3",
   "version": "3.7.6"
  },
  "toc": {
   "base_numbering": 1,
   "nav_menu": {},
   "number_sections": true,
   "sideBar": true,
   "skip_h1_title": false,
   "title_cell": "Table of Contents",
   "title_sidebar": "Contents",
   "toc_cell": false,
   "toc_position": {},
   "toc_section_display": true,
   "toc_window_display": false
  }
 },
 "nbformat": 4,
 "nbformat_minor": 4
}
